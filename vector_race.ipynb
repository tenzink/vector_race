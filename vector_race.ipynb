{
 "cells": [
  {
   "cell_type": "code",
   "execution_count": 27,
   "id": "76953907",
   "metadata": {},
   "outputs": [],
   "source": [
    "%matplotlib inline\n",
    "%config InlineBackend.figure_format = 'retina'\n",
    "import requests\n",
    "import matplotlib.pyplot as plt\n",
    "import os.path\n",
    "from PIL import Image, ImageDraw\n",
    "import cv2\n",
    "import numpy as np\n",
    "import statistics\n",
    "\n",
    "def save_image(img):\n",
    "    if os.path.exists(img):\n",
    "        return\n",
    "    data = requests.get('https://www.harmmade.com/vectorracer/tracks/{}'.format(img)).content\n",
    "    with open(img, 'wb') as handler:\n",
    "        handler.write(data)\n",
    "\n",
    "save_image('oval.png')\n",
    "image_orig=Image.open('oval.png')\n",
    "image=image_orig.copy()\n",
    "grid_step = 15\n",
    "\n",
    "def boundaries_filter(x):\n",
    "    if x != 0:\n",
    "        return 1\n",
    "    return 0\n",
    "\n",
    "def find_start(img):\n",
    "    xs = []\n",
    "    ys = []\n",
    "    for x in range(img.width):\n",
    "        for y in range(img.height):\n",
    "            v = image.getpixel((x,y))\n",
    "            if v == 11:\n",
    "                xs.append(x)\n",
    "                ys.append(y)\n",
    "    print(xs, ys)\n",
    "    return statistics.median(xs), statistics.median(ys)\n",
    "\n",
    "if 'start_point' not in globals():\n",
    "    start_point = find_start(image_orig)\n",
    "\n",
    "def find_track(image):\n",
    "    im2=np.array(image)\n",
    "    im2[im2!=0]=1\n",
    "    pal=image.getpalette()\n",
    "    cv2.floodFill(im2, None, start_point, 10, 0, 1)\n",
    "    im2[im2!=10]=1\n",
    "    im2[im2==10]=0\n",
    "    im2=Image.fromarray(im2, mode='P')\n",
    "    im2.putpalette(pal)\n",
    "    return im2\n",
    "\n",
    "track = find_track(image_orig)"
   ]
  },
  {
   "cell_type": "code",
   "execution_count": 25,
   "id": "37c09a8c",
   "metadata": {},
   "outputs": [],
   "source": [
    "def pt(pos):\n",
    "    start_x = start_point[0]\n",
    "    start_y = start_point[1]\n",
    "    (x, y) = pos\n",
    "    return (start_x + grid_step * x, start_y - grid_step * y)\n",
    "\n",
    "def is_valid(pos):\n",
    "    p = pt(pos)\n",
    "    return p[0] >= 0 and p[1] >= 0 \\\n",
    "        and p[0] < track.width and p[1] < track.height \\\n",
    "        and track.getpixel(p) == 0\n",
    "\n",
    "def is_finish(pos):\n",
    "    p = pt(pos)\n",
    "    return p[0] >= 0 and p[1] >= 0 \\\n",
    "        and p[0] < image.width and p[1] < image.height \\\n",
    "        and image_orig.getpixel(p) == 7\n",
    "    \n",
    "\n",
    "def is_valid_line(pos1, pos2):\n",
    "    if pos1[0] >= 0 and pos2[0] < 0 and pos1[1] < 10:\n",
    "        return False\n",
    "    if not is_valid(pos1):\n",
    "        return False\n",
    "    for p in np.linspace(pos1, pos2, 10):\n",
    "        if is_finish(p):\n",
    "            return True\n",
    "        if not is_valid(p):\n",
    "            return False\n",
    "    return is_valid(pos2)\n",
    "\n",
    "def has_finished(pos1, pos2):\n",
    "    if pos1[0] >= 0 and pos2[0] < 0 and pos1[1] < 10:\n",
    "        return False\n",
    "    if not is_valid(pos1):\n",
    "        return False\n",
    "    for p in np.linspace(pos1, pos2, 10):\n",
    "        if is_finish(p):\n",
    "            return True\n",
    "        if not is_valid(p):\n",
    "            return False\n",
    "    return False\n",
    "\n",
    "def finish(pos1, pos2):\n",
    "    for p in np.linspace(pos1, pos2, 100):\n",
    "        if is_finish(p):\n",
    "            return p\n",
    "    return None\n",
    "\n",
    "def param(pos1, pos2, p):\n",
    "    (x0, y0) = pos1\n",
    "    (x1, y1) = pos2\n",
    "    (x, y) = p\n",
    "    num = (x1-x0)*(x-x0) + (y1-y0)*(y-y0)\n",
    "    denom = (x1-x0)*(x1-x0) + (y1-y0)*(y1-y0)\n",
    "    return num/denom\n",
    "\n",
    "def get_dst(pos1, pos2):\n",
    "    (x0, y0) = pos1\n",
    "    (x1, y1) = pos2\n",
    "    return (x1-x0)*(x1-x0)+(y1-y0)*(y1-y0)\n",
    "\n",
    "def draw(pos, fill=None, outline=None, d=None):\n",
    "    fill = fill or 100\n",
    "    outline = outline or 30\n",
    "    if is_valid(pos):\n",
    "        d = 3\n",
    "        fill = 6\n",
    "    else:\n",
    "        d = 10\n",
    "        fill = 3\n",
    "    img = ImageDraw.Draw(image)\n",
    "    (px, py) = pt(pos)\n",
    "    img.ellipse([(px-d, py-d), (px+d, py+d)], fill=fill, outline=outline)\n",
    "\n",
    "def draw_line(pos0, pos1, fill=None):\n",
    "    fill = fill or 77\n",
    "    if is_valid_line(pos0, pos1):\n",
    "        fill = 77\n",
    "        width = 0\n",
    "    else:\n",
    "        fill = 3\n",
    "        width = 3\n",
    "    p0 = pt(pos0)\n",
    "    p1 = pt(pos1)\n",
    "    img = ImageDraw.Draw(image)\n",
    "    img.line([p0, p1], fill=fill, width=width)"
   ]
  },
  {
   "cell_type": "code",
   "execution_count": 44,
   "id": "261e599c",
   "metadata": {
    "scrolled": false
   },
   "outputs": [],
   "source": [
    "class State:\n",
    "    def __init__(self, x=0, y=0, dx=0, dy=0):\n",
    "        self.data = (x, y, dx, dy)\n",
    "    \n",
    "    def __hash__(self):\n",
    "        return hash(self.data)\n",
    "    \n",
    "    def __str__(self):\n",
    "        (x, y, dx, dy) = self.data\n",
    "        return \"({}, {}, {}, {})\".format(x, y, dx, dy)\n",
    "    \n",
    "    def __repr__(self):\n",
    "        (x, y, dx, dy) = self.data\n",
    "        return \"({}, {}, {}, {})\".format(x, y, dx, dy)\n",
    "\n",
    "    def step(self, cmd):\n",
    "        (ddx, ddy) = cmd\n",
    "        (x, y, dx, dy) = self.data\n",
    "        return State(x + dx + ddx, y + dy + ddy, dx + ddx, dy + ddy)\n",
    "    \n",
    "    def step_back(self, cmd):\n",
    "        (ddx, ddy) = cmd\n",
    "        (x, y, dx, dy) = self.data\n",
    "        return State(x - dx, y - dy, dx - ddx, dy - ddy)\n",
    "    \n",
    "    def pos(self):\n",
    "        return (self.data[0], self.data[1])\n",
    "    \n",
    "    def data(self):\n",
    "        return self.data\n",
    "      \n",
    "def bfs():\n",
    "    state = State()\n",
    "    l = [state]\n",
    "    idx = 0\n",
    "    d = {}\n",
    "    back = {}\n",
    "    d[state.data] = 0\n",
    "    result = []\n",
    "    found_distance = None\n",
    "    while idx < len(l):\n",
    "        el = l[idx]\n",
    "        dist = d[el.data]\n",
    "        idx = idx + 1\n",
    "        if not found_distance is None and dist >= found_distance:\n",
    "            break\n",
    "        for ddx in (-1, 0, 1):\n",
    "            for ddy in (-1, 0, 1):\n",
    "                s = el.step((ddx, ddy))\n",
    "                if abs(s.data[2]) > 6 or abs(s.data[3]) > 6:\n",
    "                    continue\n",
    "                if s.data in d:\n",
    "                    continue\n",
    "                if not is_valid_line(el.pos(), s.pos()):\n",
    "                    continue\n",
    "                back[s.data] = (ddx, ddy)\n",
    "                d[s.data] = dist + 1\n",
    "                if dist == 20:\n",
    "                    draw_line(el.pos(),s.pos())\n",
    "                if has_finished(el.pos(), s.pos()):\n",
    "                    result.append(s.data)\n",
    "                    found_distance = dist + 1\n",
    "                else:\n",
    "                    l.append(s)\n",
    "    return d, l, found_distance, result, back\n",
    "       \n",
    "d, l, dst, result, back = bfs()"
   ]
  },
  {
   "cell_type": "code",
   "execution_count": 45,
   "id": "f445885f",
   "metadata": {},
   "outputs": [
    {
     "data": {
      "image/png": "[encoded data removed]",
      "text/plain": [
       "<PIL.Image.Image image mode=P size=794x599 at 0x1E77DF12D40>"
      ]
     },
     "execution_count": 45,
     "metadata": {},
     "output_type": "execute_result"
    }
   ],
   "source": [
    "image"
   ]
  },
  {
   "cell_type": "markdown",
   "id": "f8124293",
   "metadata": {},
   "source": [
    "Pixel value (image.getpixel):\n",
    "* equal to `0` - boundary\n",
    "* equal to `1` - blank\n",
    "* equal to `2` - grid\n",
    "* equal to `3` - checkpoint (red)\n",
    "* equal to `4` - checkpoint (red) intersecting grid\n",
    "* equal to `5` - checkpoint (green)\n",
    "* equal to `6` - checkpoint (green) intersecting grid\n",
    "* equal to `7` - checkpoint (black, start/finish)\n",
    "* equal to `8` - direction sign\n",
    "* equal to `9` - direction sign intersecting grid\n",
    "* equal to `10`- hatch boundaries\n",
    "* equal to `11` - hatch center"
   ]
  },
  {
   "cell_type": "code",
   "execution_count": 35,
   "id": "9f12c265",
   "metadata": {},
   "outputs": [],
   "source": [
    "results=[]\n",
    "for r in result:\n",
    "    chain = [r]\n",
    "    while chain[-1] in back:\n",
    "        (x,y,dx,dy) = chain[-1]\n",
    "        st = back[chain[-1]]\n",
    "        new_val = State(x,y,dx,dy).step_back(st).data\n",
    "        chain.append(new_val)\n",
    "    ch2 = [(x,y) for (x,y,_,_) in reversed(chain)]\n",
    "    results.append(ch2)\n",
    "    "
   ]
  },
  {
   "cell_type": "code",
   "execution_count": null,
   "id": "c655390d",
   "metadata": {},
   "outputs": [],
   "source": []
  },
  {
   "cell_type": "code",
   "execution_count": 37,
   "id": "ae2cda26",
   "metadata": {},
   "outputs": [
    {
     "data": {
      "image/png": "[encoded data removed]",
      "text/plain": [
       "<PIL.Image.Image image mode=P size=794x599 at 0x1E77E7EBBB0>"
      ]
     },
     "execution_count": 37,
     "metadata": {},
     "output_type": "execute_result"
    }
   ],
   "source": [
    "draw((0,0))\n",
    "for r in results:\n",
    "    for i in range(1, len(r)):\n",
    "        draw(r[i])\n",
    "        draw_line(r[i-1], r[i])\n",
    "        \n",
    "image"
   ]
  },
  {
   "cell_type": "code",
   "execution_count": null,
   "id": "0b71418f",
   "metadata": {},
   "outputs": [],
   "source": [
    "[a,b] = results[0][-2:]\n",
    "param(a, b, finish(a, b))"
   ]
  },
  {
   "cell_type": "code",
   "execution_count": 41,
   "id": "867cda49",
   "metadata": {},
   "outputs": [
    {
     "data": {
      "text/plain": [
       "1.3435"
      ]
     },
     "execution_count": 41,
     "metadata": {},
     "output_type": "execute_result"
    }
   ],
   "source": [
    "x = 1.343453564\n",
    "round(x, 4)"
   ]
  },
  {
   "cell_type": "code",
   "execution_count": 46,
   "id": "c67ee352",
   "metadata": {},
   "outputs": [
    {
     "data": {
      "image/png": "[encoded data removed]",
      "text/plain": [
       "<PIL.Image.Image image mode=P size=794x599 at 0x1E77F5992A0>"
      ]
     },
     "execution_count": 46,
     "metadata": {},
     "output_type": "execute_result"
    }
   ],
   "source": [
    "min_r = 100\n",
    "min_dst = 100\n",
    "res = []\n",
    "for r in results:\n",
    "    [a,b] = r[-2:]\n",
    "    p = round(param(a, b, finish(a, b)),2)\n",
    "    curr_dst = get_dst(a, b)\n",
    "    if (p, curr_dst) < (min_r, min_dst):\n",
    "        min_r = p\n",
    "        min_dst = curr_dst\n",
    "        res = [r]\n",
    "    elif (p, curr_dst) == (min_r, min_dst):\n",
    "        res.append(r)\n",
    "\n",
    "results = res\n",
    "image=image_orig.copy()\n",
    "draw((0,0))\n",
    "for r in results:\n",
    "    for i in range(1, len(r)):\n",
    "        draw(r[i])\n",
    "        draw_line(r[i-1], r[i])\n",
    "        \n",
    "image "
   ]
  },
  {
   "cell_type": "code",
   "execution_count": 43,
   "id": "1eed782b",
   "metadata": {},
   "outputs": [],
   "source": [
    "image.save('oval-result.png')"
   ]
  }
 ],
 "metadata": {
  "kernelspec": {
   "display_name": "Python 3 (ipykernel)",
   "language": "python",
   "name": "python3"
  },
  "language_info": {
   "codemirror_mode": {
    "name": "ipython",
    "version": 3
   },
   "file_extension": ".py",
   "mimetype": "text/x-python",
   "name": "python",
   "nbconvert_exporter": "python",
   "pygments_lexer": "ipython3",
   "version": "3.10.1"
  }
 },
 "nbformat": 4,
 "nbformat_minor": 5
}
